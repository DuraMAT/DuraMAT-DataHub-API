{
 "cells": [
  {
   "cell_type": "markdown",
   "metadata": {},
   "source": [
    "# CKAN API\n",
    "\n",
    "http://docs.ckan.org/en/ckan-2.6.5/api/index.html\n",
    "For the CKAN DataStore\n",
    "https://docs.ckan.org/en/2.8/maintaining/datastore.html#the-datastore-api\n",
    "\n",
    "EMN data hubs use **<font color='steelblue'>CKAN version 2.6</font>**.\n",
    "Note: We are in the process of an upgrade to 2.8 at this time (2019-04-08)\n",
    "\n",
    "### API Tools\n",
    "\n",
    "##### Postman\n",
    "\n",
    "A sandbox REST APIs. Also generates code snippets in several languages. Good for testing!\n",
    "\n",
    "* Download: https://www.getpostman.com/\n",
    "* CKAN API Postman collection: https://github.com/EMN-Data/ckan-api-postman\n",
    "\n",
    "##### Python\n",
    "\n",
    "**ckanapi** CLI\n",
    "\n",
    "https://github.com/ckan/ckanapi\n",
    "\n",
    "**ckanapi** python package\n",
    "\n",
    "https://github.com/ckan/ckanapi#ckanapi-python-module\n",
    "\n",
    "manually with requests\n",
    "\n",
    "http://docs.python-requests.org/en/master/\n",
    "\n",
    "`pip install requests`\n",
    "\n",
    "manually with urllib (if not installed with python)\n",
    "\n",
    "https://docs.python.org/3/library/urllib.html\n",
    "\n",
    "`pip install urllib`"
   ]
  },
  {
   "cell_type": "code",
   "execution_count": null,
   "metadata": {},
   "outputs": [],
   "source": [
    "import json\n",
    "import pprint as pp\n",
    "import urllib.request as ur\n",
    "import urllib.parse as up"
   ]
  },
  {
   "cell_type": "markdown",
   "metadata": {},
   "source": [
    "# CKAN Structure Overveiw\n",
    "\n",
    "The EMN data hubs are built on a [CKAN framework](http://docs.ckan.org/en/ckan-2.7.3/user-guide.html).\n",
    "\n",
    "The CKAN **web application** has a hierarchical layout. From top to bottom:\n",
    "\n",
    "* ##### Projects and Sub-Projects\n",
    "* ##### Datasets\n",
    "* ##### Resources\n",
    "\n",
    "The CKAN **API** has the same structure, but **datasets are _packages_**. And **project** is often synonymous with **_group_ or _organization_**.\n",
    "\n",
    "The CKAN API documentation does not explicitly include Projects, but the documentation for _groups_ and _organizations_ apply to projects. "
   ]
  },
  {
   "cell_type": "markdown",
   "metadata": {},
   "source": [
    "# API Use Cases\n",
    "\n",
    "* Get existing projects\n",
    "* Get user's specific projects\n",
    "* Get a project's details\n",
    "* Query specific data records from a CSV resource\n",
    "* More to come later...\n",
    "\n",
    "The API can also be used to modify or even upload new datasets. We are currently building an application to provide the upload capability for researchers to be done programmtically; particularlay with respect to handling multiple files into exisitng or new datasets."
   ]
  },
  {
   "cell_type": "markdown",
   "metadata": {},
   "source": [
    "# Building Requests\n",
    "\n",
    "Each request follows the same format\n",
    "\n",
    "`<datahub>/api/3/action/<action>`\n",
    "\n",
    "> Examples\n",
    ">\n",
    "> `https://datahub.duramat.org/api/3/action/project_list`\n",
    "> `https://datahub.duramat.org/api/3/action/resource_show`"
   ]
  },
  {
   "cell_type": "markdown",
   "metadata": {},
   "source": [
    "### Actions\n",
    "\n",
    "Actions also follow a similar format. The start the the entity and end with a verb. Entity are things like, **project**, **package**, **resource**, **datastore**, and **revision** (plus many others). Verbs are **list**, **show**, **create**, **update**, **patch**, **search**, and **delete**. Together you may get a **`project_list`** or a **`resource_show`**, or maybe you need to delete a dataset with **`package_delete`**.\n",
    "\n",
    "The helper below will generate a URI for an **<action\\>** that we will use in each request."
   ]
  },
  {
   "cell_type": "code",
   "execution_count": null,
   "metadata": {},
   "outputs": [],
   "source": [
    "# build url pieces\n",
    "emn_datahub = 'https://datahub.duramat.org'\n",
    "\n",
    "# Helper to build a URI for a given API action\n",
    "action = lambda a: '{}/api/3/action/{}'.format(emn_datahub, a)\n",
    "\n",
    "action('project_list')"
   ]
  },
  {
   "cell_type": "markdown",
   "metadata": {},
   "source": [
    "### Get your API token\n",
    "\n",
    "Most API calls require your API token. In general, any time you need to create or modify content, an API token is required. To read or download **public** datasets, no API token is required.\n",
    "\n",
    "1. Login to the data hub\n",
    "2. Click on your user name in the top ribbon\n",
    "3. Your API token is at the bottom of the left column"
   ]
  },
  {
   "cell_type": "code",
   "execution_count": null,
   "metadata": {},
   "outputs": [],
   "source": [
    "# Set your API token\n",
    "api_token = 'c649045a-9d7a-4a5e-a200-bd667ba0b67a'"
   ]
  },
  {
   "cell_type": "markdown",
   "metadata": {},
   "source": [
    "# CKAN API responses\n",
    "\n",
    "Every CKAN response will be a JSON object.\n",
    "\n",
    "Example **success** response:\n",
    "\n",
    "```json\n",
    "{\n",
    "    \"success\": true,\n",
    "    \"result\": <array|object>,\n",
    "    \"help\": \"\"\n",
    "}\n",
    "```\n",
    "\n",
    "Example **error** response:\n",
    "\n",
    "```json\n",
    "{\n",
    "    \"success\": false,\n",
    "    \"error\": \"\",\n",
    "    \"help\": \"\"\n",
    "}\n",
    "```"
   ]
  },
  {
   "cell_type": "markdown",
   "metadata": {},
   "source": [
    "# Walkthrough"
   ]
  },
  {
   "cell_type": "markdown",
   "metadata": {},
   "source": [
    "## Projects\n",
    "\n",
    "Note that projects are called _organizations_ or _groups_ in the CKAN API documentation."
   ]
  },
  {
   "cell_type": "markdown",
   "metadata": {},
   "source": [
    "### project_list\n",
    "\n",
    "http://docs.ckan.org/en/ckan-2.6.5/api/index.html#ckan.logic.action.get.organization_list"
   ]
  },
  {
   "cell_type": "code",
   "execution_count": null,
   "metadata": {
    "scrolled": true
   },
   "outputs": [],
   "source": [
    "request = ur.Request(action('project_list')) "
   ]
  },
  {
   "cell_type": "markdown",
   "metadata": {},
   "source": [
    "The CKAN API is RESTful. For the most part, it uses GET and POST. An authorization header is requred for both types of requests. POST requests require an additional header to tell the API to expect JSON in the body of the request."
   ]
  },
  {
   "cell_type": "code",
   "execution_count": null,
   "metadata": {},
   "outputs": [],
   "source": [
    "# Using only authorization for the GET header\n",
    "request.add_header('Authorization', api_token)"
   ]
  },
  {
   "cell_type": "markdown",
   "metadata": {},
   "source": [
    "Complete the GET request by initiating the contact and then parsing out the results; which will be a json file."
   ]
  },
  {
   "cell_type": "code",
   "execution_count": null,
   "metadata": {
    "scrolled": true
   },
   "outputs": [],
   "source": [
    "response = ur.urlopen(request)\n",
    "data = json.loads(response.read().decode('utf-8'))   \n",
    "pp.pprint (data['result'], indent=4)"
   ]
  },
  {
   "cell_type": "markdown",
   "metadata": {},
   "source": [
    "### project_list_for_user\n",
    "\n",
    "Alternatively use `project_list_for_user` to get a list of projects with premission to preform a given action. For this one we will be needing to build a parameter list to pass as part of the request to the CKAN REST API. It will also be necessary to encode the parameter dictionary into the format for the request.\n",
    "\n",
    "http://docs.ckan.org/en/ckan-2.6.5/api/index.html#ckan.logic.action.get.organization_list_for_user"
   ]
  },
  {
   "cell_type": "code",
   "execution_count": null,
   "metadata": {
    "scrolled": true
   },
   "outputs": [],
   "source": [
    "# Make dictionary of parameters and encode them into uri string\n",
    "params = {'permission': 'create_dataset'}\n",
    "param_string = up.urlencode( params )\n",
    "#Build composite url for request\n",
    "url = action('project_list_for_user') + '?' + param_string\n",
    "# https://datahub.duramat.org/api/3/action/project_list_for_user\n",
    "request = ur.Request(url)\n",
    "# Add authorization\n",
    "request.add_header('Authorization', api_token)\n",
    "response = ur.urlopen(request)\n",
    "data = json.loads(response.read().decode('utf-8'))   \n",
    "pp.pprint (data['result'], indent=4)"
   ]
  },
  {
   "cell_type": "markdown",
   "metadata": {},
   "source": [
    "### project_show\n",
    "\n",
    "http://docs.ckan.org/en/ckan-2.6.5/api/index.html#ckan.logic.action.get.organization_show"
   ]
  },
  {
   "cell_type": "markdown",
   "metadata": {},
   "source": [
    "The next section will require a project id to perform. I have chosen a public data set from the Data Hub; The Enphase Micro-Inverter sub-project, by Bill Marion, under PV Field Data.\n",
    "\n",
    "To find the project ID, click on the project name from the \"project tree\" on the left of the page. The ID is foundon the upper right, above the project description"
   ]
  },
  {
   "cell_type": "code",
   "execution_count": null,
   "metadata": {},
   "outputs": [],
   "source": [
    "project_id = '6448b09a-f253-4e5c-9a97-e9e88b628df5'\n",
    "params = {\n",
    "    'id': project_id,\n",
    "    'include_datasets': True,\n",
    "    'include_users': False\n",
    "}\n",
    "param_string = up.urlencode( params )\n",
    "#Build composite url for request\n",
    "url = action('project_show') + '?' + param_string\n",
    "# https://datahub.duramat.org/api/3/action/project_show\n",
    "request = ur.Request(url)\n",
    "# Add authorization\n",
    "request.add_header('Authorization', api_token)\n",
    "response = ur.urlopen(request)\n",
    "data = json.loads(response.read().decode('utf-8'))   \n",
    "pp.pprint (data['result'], indent=4)"
   ]
  },
  {
   "cell_type": "markdown",
   "metadata": {},
   "source": [
    "### Datasets and Data Files/Resources\n",
    "\n",
    "Remember, datasets are called packages in the CKAN API documentation.To search a data file for particular values requires using the DataStore API, a subset of the CKAN API documentation\n",
    "\n",
    "https://docs.ckan.org/en/2.8/maintaining/datastore.html#the-datastore-api\n",
    "\n",
    "The data resource can be queried for particular values if it has been pushed into the data store. This is part of the advnatage to storing data files as CSV whenever possible. The process for accessing the data is similar to what has been done above. \n",
    "\n",
    "In this case we are using the \"datastore_search\" action. I will target a public data set in the same enphase Micro-Inverter sub-project. I will search the Denver Info file (a CSV) for all Canadian Solar records. Note; there are far more parameters that can be used in the query and those can be found in the documentaion under: ckanext.datastore.logic.action.datastore_search \n",
    "\n",
    "We will need the resource ID for the file. That can be found by either searching the project data sets (using the results from above) or by clicking on the resource and then clicking on the green DATA API button on top right. Inside the Data API button examples is the UUID for the resource."
   ]
  },
  {
   "cell_type": "code",
   "execution_count": null,
   "metadata": {},
   "outputs": [],
   "source": [
    "resource_id='31c4a04d-5bbc-4776-963b-a2d8fab994c2'\n",
    "params = {\n",
    "    'resource_id': resource_id,\n",
    "    'q': 'Canadian Solar'\n",
    "}\n",
    "param_string = up.urlencode( params )\n",
    "#Build composite url for request\n",
    "url = action('datastore_search') + '?' + param_string\n",
    "# https://datahub.duramat.org/api/3/action/project_show\n",
    "request = ur.Request(url)\n",
    "# Add authorization\n",
    "request.add_header('Authorization', api_token)\n",
    "response = ur.urlopen(request)\n",
    "data = json.loads(response.read().decode('utf-8'))   \n",
    "pp.pprint (data['result'], indent=4)"
   ]
  }
 ],
 "metadata": {
  "kernelspec": {
   "display_name": "Python 3",
   "language": "python",
   "name": "python3"
  },
  "language_info": {
   "codemirror_mode": {
    "name": "ipython",
    "version": 3
   },
   "file_extension": ".py",
   "mimetype": "text/x-python",
   "name": "python",
   "nbconvert_exporter": "python",
   "pygments_lexer": "ipython3",
   "version": "3.7.1"
  }
 },
 "nbformat": 4,
 "nbformat_minor": 2
}
